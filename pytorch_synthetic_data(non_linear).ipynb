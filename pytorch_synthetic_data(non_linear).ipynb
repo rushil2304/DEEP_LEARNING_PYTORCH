{
  "nbformat": 4,
  "nbformat_minor": 0,
  "metadata": {
    "colab": {
      "provenance": [],
      "gpuType": "T4",
      "authorship_tag": "ABX9TyNs/xVrVY/QiUU0sUA2M8/i",
      "include_colab_link": true
    },
    "kernelspec": {
      "name": "python3",
      "display_name": "Python 3"
    },
    "language_info": {
      "name": "python"
    },
    "accelerator": "GPU"
  },
  "cells": [
    {
      "cell_type": "markdown",
      "metadata": {
        "id": "view-in-github",
        "colab_type": "text"
      },
      "source": [
        "<a href=\"https://colab.research.google.com/github/rushil2304/DEEP_LEARNING_PYTORCH/blob/main/pytorch_synthetic_data(non_linear).ipynb\" target=\"_parent\"><img src=\"https://colab.research.google.com/assets/colab-badge.svg\" alt=\"Open In Colab\"/></a>"
      ]
    },
    {
      "cell_type": "code",
      "execution_count": 42,
      "metadata": {
        "id": "TlnA-D6-JbGu"
      },
      "outputs": [],
      "source": [
        "import torch\n",
        "import torch.nn as nn\n",
        "import torch.optim as optim\n",
        "from torch.utils.data import DataLoader\n",
        "from torchvision.datasets import FakeData\n",
        "from torchvision import transforms\n",
        "import matplotlib.pyplot as plt"
      ]
    },
    {
      "cell_type": "code",
      "source": [
        "transform = transforms.ToTensor()\n",
        "dataset = FakeData(size=1000, image_size=(1, 28, 28), num_classes=2, transform=transform)"
      ],
      "metadata": {
        "id": "xgPJ0KuEJ0Jz"
      },
      "execution_count": 43,
      "outputs": []
    },
    {
      "cell_type": "code",
      "source": [
        "def show_fake_samples(dataset, num_samples=6):\n",
        "    fig, axes = plt.subplots(1, num_samples, figsize=(15, 3))\n",
        "    for i in range(num_samples):\n",
        "        img, label = dataset[i]\n",
        "        axes[i].imshow(img.squeeze(), cmap=\"gray\")\n",
        "        axes[i].set_title(f\"Label: {label}\")\n",
        "        axes[i].axis(\"off\")\n",
        "    plt.tight_layout()\n",
        "    plt.show()\n",
        "\n",
        "show_fake_samples(dataset)"
      ],
      "metadata": {
        "colab": {
          "base_uri": "https://localhost:8080/",
          "height": 277
        },
        "id": "_YQyjcRbJ0Sm",
        "outputId": "3dd00737-f12a-4bc9-ada6-d14d6cad7779"
      },
      "execution_count": 44,
      "outputs": [
        {
          "output_type": "display_data",
          "data": {
            "text/plain": [
              "<Figure size 1500x300 with 6 Axes>"
            ],
            "image/png": "[encoded data removed]"
          },
          "metadata": {}
        }
      ]
    },
    {
      "cell_type": "code",
      "source": [
        "train_loader = DataLoader(dataset, batch_size=32, shuffle=True)"
      ],
      "metadata": {
        "id": "hL2_g49xKVJ9"
      },
      "execution_count": 45,
      "outputs": []
    },
    {
      "cell_type": "code",
      "source": [
        "class SimpleCNN(nn.Module):\n",
        "    def __init__(self):\n",
        "        super(SimpleCNN, self).__init__()\n",
        "        self.network = nn.Sequential(\n",
        "            nn.Conv2d(1, 16, kernel_size=3, stride=1, padding=1),\n",
        "            nn.ReLU(),\n",
        "            nn.MaxPool2d(2, 2),\n",
        "            nn.Conv2d(16, 32, kernel_size=3, stride=1, padding=1),\n",
        "            nn.ReLU(),\n",
        "            nn.MaxPool2d(2, 2),\n",
        "            nn.Flatten(),\n",
        "            nn.Linear(32 * 7 * 7, 64),\n",
        "            nn.ReLU(),\n",
        "            nn.Linear(64, 2)\n",
        "        )\n",
        "\n",
        "    def forward(self, x):\n",
        "        return self.network(x)"
      ],
      "metadata": {
        "id": "BdLM3cpUKWvy"
      },
      "execution_count": 46,
      "outputs": []
    },
    {
      "cell_type": "code",
      "source": [
        "device = torch.device(\"cuda\" if torch.cuda.is_available() else \"cpu\")\n",
        "model = SimpleCNN().to(device)\n",
        "criterion = nn.CrossEntropyLoss()\n",
        "optimizer = optim.Adam(model.parameters(), lr=0.001)"
      ],
      "metadata": {
        "id": "quXxnXXmKWzP"
      },
      "execution_count": 47,
      "outputs": []
    },
    {
      "cell_type": "code",
      "source": [
        "epochs = 20\n",
        "for epoch in range(epochs):\n",
        "    total_loss = 0\n",
        "    correct = 0\n",
        "    total = 0\n",
        "\n",
        "    for inputs, labels in train_loader:\n",
        "        inputs, labels = inputs.to(device), labels.to(device)\n",
        "\n",
        "        # Forward pass\n",
        "        outputs = model(inputs)\n",
        "        loss = criterion(outputs, labels)\n",
        "\n",
        "        # Backward pass and optimization\n",
        "        optimizer.zero_grad()\n",
        "        loss.backward()\n",
        "        optimizer.step()\n",
        "\n",
        "        # Metrics\n",
        "        total_loss += loss.item()\n",
        "        _, predicted = torch.max(outputs, 1)\n",
        "        total += labels.size(0)\n",
        "        correct += (predicted == labels).sum().item()\n",
        "\n",
        "    print(f\"Epoch {epoch+1}/{epochs} | Loss: {total_loss:.4f} | Accuracy: {100 * correct / total:.2f}%\")"
      ],
      "metadata": {
        "colab": {
          "base_uri": "https://localhost:8080/"
        },
        "id": "o52InO3_KrsE",
        "outputId": "bf08e6c3-bbdc-445f-df43-92a495ced39e"
      },
      "execution_count": 48,
      "outputs": [
        {
          "output_type": "stream",
          "name": "stdout",
          "text": [
            "Epoch 1/20 | Loss: 22.2609 | Accuracy: 49.40%\n",
            "Epoch 2/20 | Loss: 22.2260 | Accuracy: 50.20%\n",
            "Epoch 3/20 | Loss: 22.2120 | Accuracy: 50.20%\n",
            "Epoch 4/20 | Loss: 22.1689 | Accuracy: 52.50%\n",
            "Epoch 5/20 | Loss: 22.1203 | Accuracy: 51.70%\n",
            "Epoch 6/20 | Loss: 22.1775 | Accuracy: 49.70%\n",
            "Epoch 7/20 | Loss: 21.9891 | Accuracy: 59.20%\n",
            "Epoch 8/20 | Loss: 21.7520 | Accuracy: 60.20%\n",
            "Epoch 9/20 | Loss: 21.1145 | Accuracy: 66.90%\n",
            "Epoch 10/20 | Loss: 19.9309 | Accuracy: 71.50%\n",
            "Epoch 11/20 | Loss: 17.8358 | Accuracy: 77.00%\n",
            "Epoch 12/20 | Loss: 15.4657 | Accuracy: 82.10%\n",
            "Epoch 13/20 | Loss: 13.3190 | Accuracy: 83.80%\n",
            "Epoch 14/20 | Loss: 11.3815 | Accuracy: 88.10%\n",
            "Epoch 15/20 | Loss: 8.7236 | Accuracy: 92.00%\n",
            "Epoch 16/20 | Loss: 7.4414 | Accuracy: 94.90%\n",
            "Epoch 17/20 | Loss: 5.2679 | Accuracy: 96.70%\n",
            "Epoch 18/20 | Loss: 4.2163 | Accuracy: 98.30%\n",
            "Epoch 19/20 | Loss: 2.6837 | Accuracy: 99.70%\n",
            "Epoch 20/20 | Loss: 1.9526 | Accuracy: 100.00%\n"
          ]
        }
      ]
    }
  ]
}